{
 "cells": [
  {
   "cell_type": "markdown",
   "metadata": {},
   "source": [
    "# Exploring Restaurants in Berlin\n",
    "#### by André Schlinke\n",
    "### Abstract\n",
    "\n",
    "This notebook explores the distribution of different types of restaurants in the center of Berlin. It specifically tries to answer the question where restaurants are located which offer german cuisine. Therefore the concentration of german restaurants are examined for the different boroughs of Berlin. Also, as a last objective, the clustering algorithm k-means is being used to detect culinary hot-spots for opening potential new german restaurants.\n",
    "\n",
    "## Table of Content\n",
    "\n",
    "[1. Introduction](#introduction)\n",
    "\n",
    "> [1.1 Background](#background)\n",
    ">\n",
    "> [1.2 Problem](#problem)\n",
    ">\n",
    "> [1.3 Interest](#interest)"
   ]
  },
  {
   "cell_type": "markdown",
   "metadata": {},
   "source": [
    "<a id='introduction'></a>\n",
    "## 1. Introduction\n",
    "\n",
    "<a id='background'></a>\n",
    "### 1.1 Background\n",
    "\n",
    "As a enthusiast of good, tasty food, I like to go out with my friends to new restaurants and try new dishes. Luckily this is pretty easy as a local of Berlin, the german capital. The city has a rich culinary scene to offer. Here one can find culinary styles from all over the world. And eating delicous, and exotic meals aren't soley for the ones with a bigger pocket money. The competion is fierce for the hungry tooth walking by.\n",
    "\n",
    "I live in Wedding, a neighborhood which is part of the borough called Mitte (center). As a neighborhood for the working class, a lot of turkish and arabic families live here. It therefore makes sense that mostly doner and falafel restaurants are placed here. In general, Berlin has also a strong vietnamese community. Immigrants fleeing from the war back then. That is why you can find very good vietnamese restaurants all over berlin. It is also the vietnamese restaurant called Monsieur Vuong which is my favourite restaurant of all time. I even bought their cookbook. Whenever I a have someone visting me from out of town I use the opportunity to go to Monsieur Vuong and order some delicous meals.\n",
    "\n",
    "<a id='problem'></a>\n",
    "### 1.2 Problem\n",
    "\n",
    "Berlin has lots of tourists visiting the city every year. Last year alone Berlin had over 10 million guests. It happens very quickly to bump into one of these tourists and have a little chat about the city. In these occasions I like to recommend my favourite spots of Berlin. However, whenever I get asked if I know a place where one could eat traditional german food, I shake my head and shrug my shoulders. To be honest, I have no idea. I barely see any german restaurants and I start to ask myself - Where are all those german restaurants in the german capital?\n",
    "\n",
    "To highlight the problem even further - I love to watch the documentary series at Netflix called 'Chef's Table' portraying different chefs from all over the world. In one episode the chef Tim Raue is being portrayed and even he, a local of Berlin, is famous for making extraordinary asion fusion cuisine.\n",
    "\n",
    "Therefore, the question I want to investigate in this notebook is if there really is a lack of german restaurants in Berlin? And if not, where are all those restaurants located?\n",
    "\n",
    "\n",
    "<a id='interest'></a>\n",
    "### 1.3 Interest\n",
    "\n",
    "This topic is not only of interest for me or my friends but also for the several million guests visiting the city every year. As tourist from outside of germany probably want to try german cuisine, this study could be a good advisor of where one would probably find a possible restaurant for lunch or dinner. Also future restaurateurs will get three suggestions at the end where to open a potential new restaurant."
   ]
  }
 ],
 "metadata": {
  "kernelspec": {
   "display_name": "Python 3",
   "language": "python",
   "name": "python3"
  },
  "language_info": {
   "codemirror_mode": {
    "name": "ipython",
    "version": 3
   },
   "file_extension": ".py",
   "mimetype": "text/x-python",
   "name": "python",
   "nbconvert_exporter": "python",
   "pygments_lexer": "ipython3",
   "version": "3.6.4"
  }
 },
 "nbformat": 4,
 "nbformat_minor": 2
}
