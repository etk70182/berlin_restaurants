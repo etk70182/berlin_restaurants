{
 "cells": [
  {
   "cell_type": "markdown",
   "metadata": {},
   "source": [
    "# Applied Data Science in Berlin\n",
    "In this notebook the restaurants of the different neighborhoods of the heart of Berlin, Germany."
   ]
  },
  {
   "cell_type": "code",
   "execution_count": 4,
   "metadata": {},
   "outputs": [],
   "source": [
    "import numpy as np\n",
    "import pandas as pd\n",
    "import pgeocode"
   ]
  },
  {
   "cell_type": "code",
   "execution_count": 2,
   "metadata": {},
   "outputs": [
    {
     "data": {
      "text/html": [
       "<div>\n",
       "<style scoped>\n",
       "    .dataframe tbody tr th:only-of-type {\n",
       "        vertical-align: middle;\n",
       "    }\n",
       "\n",
       "    .dataframe tbody tr th {\n",
       "        vertical-align: top;\n",
       "    }\n",
       "\n",
       "    .dataframe thead th {\n",
       "        text-align: right;\n",
       "    }\n",
       "</style>\n",
       "<table border=\"1\" class=\"dataframe\">\n",
       "  <thead>\n",
       "    <tr style=\"text-align: right;\">\n",
       "      <th></th>\n",
       "      <th>Postcode</th>\n",
       "      <th>Neighborhood</th>\n",
       "      <th>Borough</th>\n",
       "    </tr>\n",
       "  </thead>\n",
       "  <tbody>\n",
       "    <tr>\n",
       "      <th>0</th>\n",
       "      <td>10115</td>\n",
       "      <td>Mitte</td>\n",
       "      <td>Mitte</td>\n",
       "    </tr>\n",
       "    <tr>\n",
       "      <th>1</th>\n",
       "      <td>10117</td>\n",
       "      <td>Mitte</td>\n",
       "      <td>Mitte</td>\n",
       "    </tr>\n",
       "    <tr>\n",
       "      <th>2</th>\n",
       "      <td>10119</td>\n",
       "      <td>Mitte</td>\n",
       "      <td>Mitte</td>\n",
       "    </tr>\n",
       "    <tr>\n",
       "      <th>3</th>\n",
       "      <td>10178</td>\n",
       "      <td>Mitte</td>\n",
       "      <td>Mitte</td>\n",
       "    </tr>\n",
       "    <tr>\n",
       "      <th>4</th>\n",
       "      <td>10179</td>\n",
       "      <td>Mitte</td>\n",
       "      <td>Mitte</td>\n",
       "    </tr>\n",
       "  </tbody>\n",
       "</table>\n",
       "</div>"
      ],
      "text/plain": [
       "   Postcode Neighborhood Borough\n",
       "0     10115        Mitte   Mitte\n",
       "1     10117        Mitte   Mitte\n",
       "2     10119        Mitte   Mitte\n",
       "3     10178        Mitte   Mitte\n",
       "4     10179        Mitte   Mitte"
      ]
     },
     "execution_count": 2,
     "metadata": {},
     "output_type": "execute_result"
    }
   ],
   "source": [
    "df    = pd.read_csv('berlin_postcode.csv')\n",
    "df.head()"
   ]
  },
  {
   "cell_type": "code",
   "execution_count": 3,
   "metadata": {},
   "outputs": [
    {
     "data": {
      "text/plain": [
       "(97, 3)"
      ]
     },
     "execution_count": 3,
     "metadata": {},
     "output_type": "execute_result"
    }
   ],
   "source": [
    "df.shape"
   ]
  },
  {
   "cell_type": "code",
   "execution_count": 5,
   "metadata": {},
   "outputs": [
    {
     "name": "stdout",
     "output_type": "stream",
     "text": [
      "10115\n",
      "10117\n",
      "10119\n",
      "10178\n",
      "10179\n",
      "10551\n",
      "10553\n",
      "10555\n",
      "10557\n",
      "10559\n",
      "13353\n",
      "10555\n",
      "10557\n",
      "10557\n",
      "10785\n",
      "10787\n",
      "13347\n",
      "13349\n",
      "13351\n",
      "13353\n",
      "13357\n",
      "13359\n",
      "13407\n",
      "13347\n",
      "13353\n",
      "13355\n",
      "13357\n",
      "13359\n",
      "13409\n",
      "10243\n",
      "10245\n",
      "10247\n",
      "10249\n",
      "10178\n",
      "10179\n",
      "10317\n",
      "10961\n",
      "10963\n",
      "10965\n",
      "10967\n",
      "10997\n",
      "10999\n",
      "10969\n",
      "10119\n",
      "10247\n",
      "10249\n",
      "10369\n",
      "10405\n",
      "10407\n",
      "10409\n",
      "10435\n",
      "10437\n",
      "10439\n",
      "13187\n",
      "13189\n",
      "10585\n",
      "10587\n",
      "10589\n",
      "10623\n",
      "10625\n",
      "10627\n",
      "10629\n",
      "14052\n",
      "14055\n",
      "14057\n",
      "14059\n",
      "10707\n",
      "10709\n",
      "10713\n",
      "10715\n",
      "10717\n",
      "10719\n",
      "10777\n",
      "14197\n",
      "10777\n",
      "10779\n",
      "10781\n",
      "10783\n",
      "10787\n",
      "10789\n",
      "10823\n",
      "10825\n",
      "10827\n",
      "10829\n",
      "12157\n",
      "12159\n",
      "12161\n",
      "12169\n",
      "12043\n",
      "12045\n",
      "12047\n",
      "12049\n",
      "12051\n",
      "12053\n",
      "12055\n",
      "12057\n",
      "12059\n"
     ]
    }
   ],
   "source": []
  },
  {
   "cell_type": "code",
   "execution_count": null,
   "metadata": {},
   "outputs": [],
   "source": []
  }
 ],
 "metadata": {
  "kernelspec": {
   "display_name": "Python 3",
   "language": "python",
   "name": "python3"
  },
  "language_info": {
   "codemirror_mode": {
    "name": "ipython",
    "version": 3
   },
   "file_extension": ".py",
   "mimetype": "text/x-python",
   "name": "python",
   "nbconvert_exporter": "python",
   "pygments_lexer": "ipython3",
   "version": "3.6.4"
  }
 },
 "nbformat": 4,
 "nbformat_minor": 2
}
